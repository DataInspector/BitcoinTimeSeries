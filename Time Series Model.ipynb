{
 "cells": [
  {
   "cell_type": "code",
   "execution_count": 2,
   "metadata": {
    "ExecuteTime": {
     "end_time": "2019-05-21T19:10:04.711804Z",
     "start_time": "2019-05-21T19:10:04.251Z"
    }
   },
   "outputs": [
    {
     "data": {
      "text/html": [
       "<table>\n",
       "<caption>A data.frame: 6 × 7</caption>\n",
       "<thead>\n",
       "\t<tr><th scope=col>Date</th><th scope=col>Price</th><th scope=col>Open</th><th scope=col>High</th><th scope=col>Low</th><th scope=col>Vol</th><th scope=col>Change..</th></tr>\n",
       "\t<tr><th scope=col>&lt;fct&gt;</th><th scope=col>&lt;fct&gt;</th><th scope=col>&lt;fct&gt;</th><th scope=col>&lt;fct&gt;</th><th scope=col>&lt;fct&gt;</th><th scope=col>&lt;fct&gt;</th><th scope=col>&lt;fct&gt;</th></tr>\n",
       "</thead>\n",
       "<tbody>\n",
       "\t<tr><td>Apr 17, 2012</td><td>5  </td><td>4.9</td><td>5  </td><td>4.9</td><td>30.65K </td><td>1.01% </td></tr>\n",
       "\t<tr><td>Apr 18, 2012</td><td>5.1</td><td>5  </td><td>5.2</td><td>5  </td><td>79.13K </td><td>2.81% </td></tr>\n",
       "\t<tr><td>Apr 19, 2012</td><td>5.1</td><td>5.1</td><td>5.2</td><td>5.1</td><td>46.68K </td><td>0.00% </td></tr>\n",
       "\t<tr><td>Apr 20, 2012</td><td>5.3</td><td>5.1</td><td>5.5</td><td>5.1</td><td>104.07K</td><td>4.09% </td></tr>\n",
       "\t<tr><td>Apr 21, 2012</td><td>5.3</td><td>5.3</td><td>5.5</td><td>5.1</td><td>60.92K </td><td>-1.68%</td></tr>\n",
       "\t<tr><td>Apr 22, 2012</td><td>5.2</td><td>5.3</td><td>5.3</td><td>5.1</td><td>37.11K </td><td>-1.14%</td></tr>\n",
       "</tbody>\n",
       "</table>\n"
      ],
      "text/latex": [
       "A data.frame: 6 × 7\n",
       "\\begin{tabular}{r|lllllll}\n",
       " Date & Price & Open & High & Low & Vol & Change..\\\\\n",
       " <fct> & <fct> & <fct> & <fct> & <fct> & <fct> & <fct>\\\\\n",
       "\\hline\n",
       "\t Apr 17, 2012 & 5   & 4.9 & 5   & 4.9 & 30.65K  & 1.01\\% \\\\\n",
       "\t Apr 18, 2012 & 5.1 & 5   & 5.2 & 5   & 79.13K  & 2.81\\% \\\\\n",
       "\t Apr 19, 2012 & 5.1 & 5.1 & 5.2 & 5.1 & 46.68K  & 0.00\\% \\\\\n",
       "\t Apr 20, 2012 & 5.3 & 5.1 & 5.5 & 5.1 & 104.07K & 4.09\\% \\\\\n",
       "\t Apr 21, 2012 & 5.3 & 5.3 & 5.5 & 5.1 & 60.92K  & -1.68\\%\\\\\n",
       "\t Apr 22, 2012 & 5.2 & 5.3 & 5.3 & 5.1 & 37.11K  & -1.14\\%\\\\\n",
       "\\end{tabular}\n"
      ],
      "text/markdown": [
       "\n",
       "A data.frame: 6 × 7\n",
       "\n",
       "| Date &lt;fct&gt; | Price &lt;fct&gt; | Open &lt;fct&gt; | High &lt;fct&gt; | Low &lt;fct&gt; | Vol &lt;fct&gt; | Change.. &lt;fct&gt; |\n",
       "|---|---|---|---|---|---|---|\n",
       "| Apr 17, 2012 | 5   | 4.9 | 5   | 4.9 | 30.65K  | 1.01%  |\n",
       "| Apr 18, 2012 | 5.1 | 5   | 5.2 | 5   | 79.13K  | 2.81%  |\n",
       "| Apr 19, 2012 | 5.1 | 5.1 | 5.2 | 5.1 | 46.68K  | 0.00%  |\n",
       "| Apr 20, 2012 | 5.3 | 5.1 | 5.5 | 5.1 | 104.07K | 4.09%  |\n",
       "| Apr 21, 2012 | 5.3 | 5.3 | 5.5 | 5.1 | 60.92K  | -1.68% |\n",
       "| Apr 22, 2012 | 5.2 | 5.3 | 5.3 | 5.1 | 37.11K  | -1.14% |\n",
       "\n"
      ],
      "text/plain": [
       "  Date         Price Open High Low Vol     Change..\n",
       "1 Apr 17, 2012 5     4.9  5    4.9 30.65K  1.01%   \n",
       "2 Apr 18, 2012 5.1   5    5.2  5   79.13K  2.81%   \n",
       "3 Apr 19, 2012 5.1   5.1  5.2  5.1 46.68K  0.00%   \n",
       "4 Apr 20, 2012 5.3   5.1  5.5  5.1 104.07K 4.09%   \n",
       "5 Apr 21, 2012 5.3   5.3  5.5  5.1 60.92K  -1.68%  \n",
       "6 Apr 22, 2012 5.2   5.3  5.3  5.1 37.11K  -1.14%  "
      ]
     },
     "metadata": {},
     "output_type": "display_data"
    }
   ],
   "source": [
    "Data <- read.csv(\"RawData.csv\")\n",
    "head(Data)"
   ]
  }
 ],
 "metadata": {
  "kernelspec": {
   "display_name": "R",
   "language": "R",
   "name": "ir"
  },
  "language_info": {
   "codemirror_mode": "r",
   "file_extension": ".r",
   "mimetype": "text/x-r-source",
   "name": "R",
   "pygments_lexer": "r",
   "version": "3.6.0"
  },
  "varInspector": {
   "cols": {
    "lenName": 16,
    "lenType": 16,
    "lenVar": 40
   },
   "kernels_config": {
    "python": {
     "delete_cmd_postfix": "",
     "delete_cmd_prefix": "del ",
     "library": "var_list.py",
     "varRefreshCmd": "print(var_dic_list())"
    },
    "r": {
     "delete_cmd_postfix": ") ",
     "delete_cmd_prefix": "rm(",
     "library": "var_list.r",
     "varRefreshCmd": "cat(var_dic_list()) "
    }
   },
   "types_to_exclude": [
    "module",
    "function",
    "builtin_function_or_method",
    "instance",
    "_Feature"
   ],
   "window_display": false
  }
 },
 "nbformat": 4,
 "nbformat_minor": 2
}
